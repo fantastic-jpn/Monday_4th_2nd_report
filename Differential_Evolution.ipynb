{
  "nbformat": 4,
  "nbformat_minor": 0,
  "metadata": {
    "colab": {
      "provenance": []
    },
    "kernelspec": {
      "name": "python3",
      "display_name": "Python 3"
    },
    "language_info": {
      "name": "python"
    }
  },
  "cells": [
    {
      "cell_type": "code",
      "execution_count": 2,
      "metadata": {
        "colab": {
          "base_uri": "https://localhost:8080/"
        },
        "id": "YvFILs2WXwDK",
        "outputId": "80509f15-302c-42a7-987f-8f11d659368b"
      },
      "outputs": [
        {
          "output_type": "stream",
          "name": "stdout",
          "text": [
            "Collecting deap\n",
            "  Downloading deap-1.4.3-cp311-cp311-manylinux_2_5_x86_64.manylinux1_x86_64.manylinux_2_17_x86_64.manylinux2014_x86_64.whl.metadata (13 kB)\n",
            "Requirement already satisfied: numpy in /usr/local/lib/python3.11/dist-packages (from deap) (2.0.2)\n",
            "Downloading deap-1.4.3-cp311-cp311-manylinux_2_5_x86_64.manylinux1_x86_64.manylinux_2_17_x86_64.manylinux2014_x86_64.whl (135 kB)\n",
            "\u001b[?25l   \u001b[90m━━━━━━━━━━━━━━━━━━━━━━━━━━━━━━━━━━━━━━━━\u001b[0m \u001b[32m0.0/135.6 kB\u001b[0m \u001b[31m?\u001b[0m eta \u001b[36m-:--:--\u001b[0m\r\u001b[2K   \u001b[90m━━━━━━━━━━━━━━━━━━━━━━━━━━━━━━━━━━━━━━━━\u001b[0m \u001b[32m135.6/135.6 kB\u001b[0m \u001b[31m8.1 MB/s\u001b[0m eta \u001b[36m0:00:00\u001b[0m\n",
            "\u001b[?25hInstalling collected packages: deap\n",
            "Successfully installed deap-1.4.3\n"
          ]
        }
      ],
      "source": [
        "!pip install deap"
      ]
    },
    {
      "cell_type": "code",
      "source": [
        "import random\n",
        "\n",
        "from deap import algorithms\n",
        "from deap import tools\n",
        "from deap import base\n",
        "from deap import creator\n",
        "from deap import benchmarks\n",
        "from deap import cma\n",
        "\n",
        "import numpy as np\n",
        "\n",
        "import matplotlib.pyplot as plt"
      ],
      "metadata": {
        "id": "0LZwxjcwX2zV"
      },
      "execution_count": 3,
      "outputs": []
    },
    {
      "cell_type": "code",
      "source": [
        "toolbox = base.Toolbox()\n",
        "\n",
        "creator.create(\"FitnessMin\", base.Fitness, weights=(-1.0,))\n",
        "creator.create(\"Individual\", list, fitness = creator.FitnessMin)\n",
        "\n",
        "def create_random_rastrigin():\n",
        "  return random.uniform(-5.12, 5.12)\n",
        "\n",
        "toolbox.register(\"attrFloat\", create_random_rastrigin)\n",
        "toolbox.register(\"individual\", tools.initRepeat, creator.Individual, toolbox.attrFloat, 2)\n",
        "toolbox.register(\"population\", tools.initRepeat, list,toolbox.individual)\n",
        "\n",
        "def evaluate(individual):\n",
        "  return benchmarks.rastrigin(individual)\n",
        "\n",
        "toolbox.register(\"evaluate\", evaluate)\n"
      ],
      "metadata": {
        "id": "qZQXwnUWYBi9"
      },
      "execution_count": 4,
      "outputs": []
    },
    {
      "cell_type": "code",
      "source": [
        "def crossover_DE(parent1, parent2, cr):\n",
        "    assert len(parent1) == len(parent2)\n",
        "    result = []\n",
        "    for i in range(len(parent1)):\n",
        "        if random.random() <= cr:\n",
        "            result.append(parent1[i])\n",
        "        else:\n",
        "            result.append(parent2[i])\n",
        "    return result\n",
        "\n",
        "\n",
        "def mutation_DE(individual, direct_vec, F, lower_bound, upper_bound):\n",
        "    new_individual = np.array(individual) + F * direct_vec\n",
        "    new_individual = np.clip(new_individual, lower_bound, upper_bound)\n",
        "    return new_individual\n"
      ],
      "metadata": {
        "id": "s8Kvj28_diBG"
      },
      "execution_count": 5,
      "outputs": []
    },
    {
      "cell_type": "code",
      "source": [
        "def main():\n",
        "  generation = 100\n",
        "  n_population = 200\n",
        "  F = 0.5\n",
        "  cr = 0.2\n",
        "\n",
        "  upper_bound = 5.12\n",
        "  lower_bound = -5.12\n",
        "\n",
        "  population = toolbox.population(n = n_population)\n",
        "\n",
        "  invalid_ind = [ind for ind in population if not ind.fitness.valid]\n",
        "  fitnesses = map(toolbox.evaluate, invalid_ind)\n",
        "  for ind, fit in zip(invalid_ind, fitnesses):\n",
        "      ind.fitness.values = fit\n",
        "\n",
        "  for idx, ind in enumerate(population):\n",
        "      if not ind.fitness.valid:\n",
        "          print(f\"Individual {idx} has invalid fitness: {ind.fitness.values}\")\n",
        "\n",
        "  stats = tools.Statistics(lambda ind: ind.fitness.values)\n",
        "  stats.register(\"avg\", np.mean)\n",
        "  stats.register(\"std\", np.std)\n",
        "  stats.register(\"min\", np.min)\n",
        "  stats.register(\"max\", np.max)\n",
        "\n",
        "  records = []\n",
        "  for i in range(generation):\n",
        "    offspring = []\n",
        "\n",
        "    # craete donar and crossover process\n",
        "    for j in range(n_population):\n",
        "      random_samples = random.sample(population, 3)\n",
        "      direction_vector = np.array(random_samples[1]) - np.array(random_samples[2])\n",
        "\n",
        "      donar = mutation_DE(random_samples[0], direction_vector, F, lower_bound, upper_bound)\n",
        "      new_individual = crossover_DE(population[j], donar, 0.2)\n",
        "\n",
        "      offspring.append(creator.Individual(new_individual))\n",
        "\n",
        "\n",
        "    # evaluation of offsprings\n",
        "    invalid_ind = [ind for ind in offspring if not ind.fitness.valid]\n",
        "    fitnesses = toolbox.map(toolbox.evaluate, invalid_ind)\n",
        "    for ind, fit in zip(invalid_ind, fitnesses):\n",
        "        ind.fitness.values = fit\n",
        "\n",
        "    # selection\n",
        "    next_population = []\n",
        "    for parent, child in zip(population, offspring):\n",
        "      if parent.fitness.values < child.fitness.values:\n",
        "        next_population.append(parent)\n",
        "      else:\n",
        "        next_population.append(child)\n",
        "\n",
        "    for idx, ind in enumerate(next_population):\n",
        "      if not ind.fitness.valid:\n",
        "          print(f\"[Generation {i}] Individual {idx} has invalid fitness: {ind.fitness.values}\")\n",
        "\n",
        "    records.append(stats.compile(next_population))\n",
        "\n",
        "    population = next_population\n",
        "\n",
        "  avgs = [record['avg'] for record in records]\n",
        "  stds  = [record['std'] for record in records]\n",
        "  mins  = [record['min'] for record in records]\n",
        "  maxs  = [record['max'] for record in records]\n",
        "\n",
        "  plt.plot(avgs, label='avg')\n",
        "  plt.plot(stds, label='std')\n",
        "  plt.plot(mins, label='min')\n",
        "  plt.plot(maxs, label='max')\n",
        "  plt.legend()\n",
        "  plt.show()"
      ],
      "metadata": {
        "id": "P17AK1-ORLOU"
      },
      "execution_count": 6,
      "outputs": []
    },
    {
      "cell_type": "code",
      "source": [
        "main()"
      ],
      "metadata": {
        "colab": {
          "base_uri": "https://localhost:8080/",
          "height": 430
        },
        "id": "GuVWKOPLYPX7",
        "outputId": "6528b4c7-f3e0-4eae-ebe0-fe06ce44109b"
      },
      "execution_count": 7,
      "outputs": [
        {
          "output_type": "display_data",
          "data": {
            "text/plain": [
              "<Figure size 640x480 with 1 Axes>"
            ],
            "image/png": "[encoded data removed]"
          },
          "metadata": {}
        }
      ]
    },
    {
      "cell_type": "code",
      "source": [],
      "metadata": {
        "id": "zsFFkEMkdkLw"
      },
      "execution_count": null,
      "outputs": []
    }
  ]
}